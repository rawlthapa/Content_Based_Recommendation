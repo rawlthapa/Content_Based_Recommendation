{
 "cells": [
  {
   "cell_type": "markdown",
   "metadata": {},
   "source": [
    "<h2>Content Based Recommendation System </h2>\n",
    "<p> This project is about content based recommendation system. The features(Items) used are:-\n",
    "movie genres, descriptions etc to recommend items similar to those the suer has liked in the past.   </p>"
   ]
  },
  {
   "cell_type": "code",
   "execution_count": 10,
   "metadata": {},
   "outputs": [
    {
     "data": {
      "text/html": [
       "<div>\n",
       "<style scoped>\n",
       "    .dataframe tbody tr th:only-of-type {\n",
       "        vertical-align: middle;\n",
       "    }\n",
       "\n",
       "    .dataframe tbody tr th {\n",
       "        vertical-align: top;\n",
       "    }\n",
       "\n",
       "    .dataframe thead th {\n",
       "        text-align: right;\n",
       "    }\n",
       "</style>\n",
       "<table border=\"1\" class=\"dataframe\">\n",
       "  <thead>\n",
       "    <tr style=\"text-align: right;\">\n",
       "      <th></th>\n",
       "      <th>title</th>\n",
       "      <th>genres</th>\n",
       "    </tr>\n",
       "  </thead>\n",
       "  <tbody>\n",
       "    <tr>\n",
       "      <th>0</th>\n",
       "      <td>Movie A</td>\n",
       "      <td>Action|Adventure</td>\n",
       "    </tr>\n",
       "    <tr>\n",
       "      <th>1</th>\n",
       "      <td>Movie B</td>\n",
       "      <td>Adventure|Comedy</td>\n",
       "    </tr>\n",
       "    <tr>\n",
       "      <th>2</th>\n",
       "      <td>Movie C</td>\n",
       "      <td>Comedy|Romance</td>\n",
       "    </tr>\n",
       "    <tr>\n",
       "      <th>3</th>\n",
       "      <td>Movie D</td>\n",
       "      <td>Action|Thriller</td>\n",
       "    </tr>\n",
       "  </tbody>\n",
       "</table>\n",
       "</div>"
      ],
      "text/plain": [
       "     title            genres\n",
       "0  Movie A  Action|Adventure\n",
       "1  Movie B  Adventure|Comedy\n",
       "2  Movie C    Comedy|Romance\n",
       "3  Movie D   Action|Thriller"
      ]
     },
     "execution_count": 10,
     "metadata": {},
     "output_type": "execute_result"
    }
   ],
   "source": [
    "import pandas as pd \n",
    "import numpy as np \n",
    "from sklearn.metrics.pairwise import cosine_similarity    \n",
    "from sklearn.feature_extraction.text import TfidfVectorizer\n",
    "\n",
    "# Example dataset: Movie titles and genres\n",
    "movies={\n",
    "    'title':['Movie A', 'Movie B', 'Movie C', 'Movie D'],\n",
    "    'genres':['Action|Adventure', 'Adventure|Comedy', 'Comedy|Romance','Action|Thriller']\n",
    "}\n",
    "movies_df=pd.DataFrame(movies)\n",
    "movies_df"
   ]
  },
  {
   "cell_type": "code",
   "execution_count": 11,
   "metadata": {},
   "outputs": [
    {
     "data": {
      "text/html": [
       "<div>\n",
       "<style scoped>\n",
       "    .dataframe tbody tr th:only-of-type {\n",
       "        vertical-align: middle;\n",
       "    }\n",
       "\n",
       "    .dataframe tbody tr th {\n",
       "        vertical-align: top;\n",
       "    }\n",
       "\n",
       "    .dataframe thead th {\n",
       "        text-align: right;\n",
       "    }\n",
       "</style>\n",
       "<table border=\"1\" class=\"dataframe\">\n",
       "  <thead>\n",
       "    <tr style=\"text-align: right;\">\n",
       "      <th></th>\n",
       "      <th>action</th>\n",
       "      <th>adventure</th>\n",
       "      <th>comedy</th>\n",
       "      <th>romance</th>\n",
       "      <th>thriller</th>\n",
       "    </tr>\n",
       "    <tr>\n",
       "      <th>title</th>\n",
       "      <th></th>\n",
       "      <th></th>\n",
       "      <th></th>\n",
       "      <th></th>\n",
       "      <th></th>\n",
       "    </tr>\n",
       "  </thead>\n",
       "  <tbody>\n",
       "    <tr>\n",
       "      <th>Movie A</th>\n",
       "      <td>0.707107</td>\n",
       "      <td>0.707107</td>\n",
       "      <td>0.000000</td>\n",
       "      <td>0.000000</td>\n",
       "      <td>0.000000</td>\n",
       "    </tr>\n",
       "    <tr>\n",
       "      <th>Movie B</th>\n",
       "      <td>0.000000</td>\n",
       "      <td>0.707107</td>\n",
       "      <td>0.707107</td>\n",
       "      <td>0.000000</td>\n",
       "      <td>0.000000</td>\n",
       "    </tr>\n",
       "    <tr>\n",
       "      <th>Movie C</th>\n",
       "      <td>0.000000</td>\n",
       "      <td>0.000000</td>\n",
       "      <td>0.619130</td>\n",
       "      <td>0.785288</td>\n",
       "      <td>0.000000</td>\n",
       "    </tr>\n",
       "    <tr>\n",
       "      <th>Movie D</th>\n",
       "      <td>0.619130</td>\n",
       "      <td>0.000000</td>\n",
       "      <td>0.000000</td>\n",
       "      <td>0.000000</td>\n",
       "      <td>0.785288</td>\n",
       "    </tr>\n",
       "  </tbody>\n",
       "</table>\n",
       "</div>"
      ],
      "text/plain": [
       "           action  adventure    comedy   romance  thriller\n",
       "title                                                     \n",
       "Movie A  0.707107   0.707107  0.000000  0.000000  0.000000\n",
       "Movie B  0.000000   0.707107  0.707107  0.000000  0.000000\n",
       "Movie C  0.000000   0.000000  0.619130  0.785288  0.000000\n",
       "Movie D  0.619130   0.000000  0.000000  0.000000  0.785288"
      ]
     },
     "execution_count": 11,
     "metadata": {},
     "output_type": "execute_result"
    }
   ],
   "source": [
    "# Vectorize the genres using TF-IDF\n",
    "tfidf=TfidfVectorizer(token_pattern='[a-zA-Z0-9]+')\n",
    "tfidf_matrix=tfidf.fit_transform(movies_df['genres'])\n",
    "tfidf_feature_names=tfidf.get_feature_names_out()\n",
    "pd.DataFrame(tfidf_matrix.toarray(), columns=tfidf_feature_names, index=movies_df['title'])"
   ]
  },
  {
   "cell_type": "code",
   "execution_count": 12,
   "metadata": {},
   "outputs": [
    {
     "data": {
      "text/html": [
       "<div>\n",
       "<style scoped>\n",
       "    .dataframe tbody tr th:only-of-type {\n",
       "        vertical-align: middle;\n",
       "    }\n",
       "\n",
       "    .dataframe tbody tr th {\n",
       "        vertical-align: top;\n",
       "    }\n",
       "\n",
       "    .dataframe thead th {\n",
       "        text-align: right;\n",
       "    }\n",
       "</style>\n",
       "<table border=\"1\" class=\"dataframe\">\n",
       "  <thead>\n",
       "    <tr style=\"text-align: right;\">\n",
       "      <th>title</th>\n",
       "      <th>Movie A</th>\n",
       "      <th>Movie B</th>\n",
       "      <th>Movie C</th>\n",
       "      <th>Movie D</th>\n",
       "    </tr>\n",
       "    <tr>\n",
       "      <th>title</th>\n",
       "      <th></th>\n",
       "      <th></th>\n",
       "      <th></th>\n",
       "      <th></th>\n",
       "    </tr>\n",
       "  </thead>\n",
       "  <tbody>\n",
       "    <tr>\n",
       "      <th>Movie A</th>\n",
       "      <td>1.000000</td>\n",
       "      <td>0.500000</td>\n",
       "      <td>0.000000</td>\n",
       "      <td>0.437791</td>\n",
       "    </tr>\n",
       "    <tr>\n",
       "      <th>Movie B</th>\n",
       "      <td>0.500000</td>\n",
       "      <td>1.000000</td>\n",
       "      <td>0.437791</td>\n",
       "      <td>0.000000</td>\n",
       "    </tr>\n",
       "    <tr>\n",
       "      <th>Movie C</th>\n",
       "      <td>0.000000</td>\n",
       "      <td>0.437791</td>\n",
       "      <td>1.000000</td>\n",
       "      <td>0.000000</td>\n",
       "    </tr>\n",
       "    <tr>\n",
       "      <th>Movie D</th>\n",
       "      <td>0.437791</td>\n",
       "      <td>0.000000</td>\n",
       "      <td>0.000000</td>\n",
       "      <td>1.000000</td>\n",
       "    </tr>\n",
       "  </tbody>\n",
       "</table>\n",
       "</div>"
      ],
      "text/plain": [
       "title     Movie A   Movie B   Movie C   Movie D\n",
       "title                                          \n",
       "Movie A  1.000000  0.500000  0.000000  0.437791\n",
       "Movie B  0.500000  1.000000  0.437791  0.000000\n",
       "Movie C  0.000000  0.437791  1.000000  0.000000\n",
       "Movie D  0.437791  0.000000  0.000000  1.000000"
      ]
     },
     "execution_count": 12,
     "metadata": {},
     "output_type": "execute_result"
    }
   ],
   "source": [
    "# Calculate the similarity between movies\n",
    "cosine_sim=cosine_similarity(tfidf_matrix)\n",
    "# cosine_sim_df=pd.DataFrame(cosine_sim, index=movies_df['title'])\n",
    "cosine_sim_df = pd.DataFrame(cosine_sim, index=movies_df['title'], columns=movies_df['title'])\n",
    "\n",
    "cosine_sim_df\n"
   ]
  },
  {
   "cell_type": "code",
   "execution_count": 18,
   "metadata": {},
   "outputs": [
    {
     "name": "stdout",
     "output_type": "stream",
     "text": [
      "Movie 'movie' not found in the dataset.\n"
     ]
    }
   ],
   "source": [
    "def recommend_movies(title, cosine_sim_df, num_recommendations=3):\n",
    "    if title not in cosine_sim_df.index:\n",
    "        return f\"Movie '{title}' not found in the dataset.\"\n",
    "    \n",
    "    # Get the similarity scores for the given movie\n",
    "    similar_scores = cosine_sim_df.loc[title]\n",
    "    \n",
    "    # Sort the movies by similarity score and exclude the first (which is the movie itself)\n",
    "    similar_movies = similar_scores.sort_values(ascending=False).iloc[1:num_recommendations+1]\n",
    "    \n",
    "    # Return the movie titles (index of similar_movies should be the movie names)\n",
    "    return similar_movies.index.tolist()\n",
    "\n",
    "# Example: Recommend movies similar to user define movie\n",
    "movie=input('Enter movie name: ')\n",
    "recommendations = recommend_movies(f'{movie}', cosine_sim_df)\n",
    "print(recommendations)\n",
    "\n"
   ]
  }
 ],
 "metadata": {
  "kernelspec": {
   "display_name": "Python 3 (ipykernel)",
   "language": "python",
   "name": "python3"
  },
  "language_info": {
   "codemirror_mode": {
    "name": "ipython",
    "version": 3
   },
   "file_extension": ".py",
   "mimetype": "text/x-python",
   "name": "python",
   "nbconvert_exporter": "python",
   "pygments_lexer": "ipython3",
   "version": "3.12.1"
  }
 },
 "nbformat": 4,
 "nbformat_minor": 2
}
